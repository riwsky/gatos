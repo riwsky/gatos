{
 "metadata": {
  "name": "Gato"
 },
 "nbformat": 3,
 "nbformat_minor": 0,
 "worksheets": [
  {
   "cells": [
    {
     "cell_type": "code",
     "collapsed": false,
     "input": [
      "import inspect"
     ],
     "language": "python",
     "metadata": {},
     "outputs": [],
     "prompt_number": 15
    },
    {
     "cell_type": "code",
     "collapsed": false,
     "input": [
      "def listify(*args):\n",
      "    if len(args)==0:\n",
      "        return []\n",
      "    elif len(args)==1:\n",
      "        if type(args[0]) is list:\n",
      "            return list(reversed(args[0]))\n",
      "        if type(args[0]) is tuple:\n",
      "            return list(args[0])\n",
      "        return [args[0]]\n",
      "    else:\n",
      "        return list(args)"
     ],
     "language": "python",
     "metadata": {},
     "outputs": [],
     "prompt_number": 441
    },
    {
     "cell_type": "code",
     "collapsed": false,
     "input": [
      "def restack(function_return_values):\n",
      "    return list(reversed(listify(function_return_values)))"
     ],
     "language": "python",
     "metadata": {},
     "outputs": [],
     "prompt_number": 442
    },
    {
     "cell_type": "code",
     "collapsed": false,
     "input": [
      "class Gato():\n",
      "    \n",
      "    def __init__(self, function, nargs=None, needs_the_rest=None):\n",
      "        self._function = function\n",
      "        if nargs == None and needs_the_rest == None:\n",
      "            argspec = inspect.getargspec(function)\n",
      "            self._nargs = len(argspec.args)\n",
      "            self._needs_the_rest = bool(argspec.varargs)\n",
      "        else:\n",
      "            self._nargs = nargs\n",
      "            self._needs_the_rest = bool(needs_the_rest)\n",
      "        \n",
      "    def __repr__(self):\n",
      "        return self._function.func_name\n",
      "            \n",
      "    def __call__(self, *args, **kwargs):\n",
      "        return self._function(*args, **kwargs)\n",
      "    \n",
      "    def partial(self, *args, **kwargs):\n",
      "        if kwargs:\n",
      "            return gatocompose(gatocompose(put(*list(args)),put(kwargs)), self)\n",
      "        else:\n",
      "            return gatocompose(put(*list(args)), self)\n",
      "    \n",
      "    def __ror__(self, stack):\n",
      "        if isinstance(stack, Gato):\n",
      "            return gatocompose(stack, self)\n",
      "        if isinstance(stack[-1], dict):\n",
      "            kwargs = stack.pop()\n",
      "            if self._needs_the_rest:\n",
      "                return self._function(*stack[-2::-1], **kwargs)\n",
      "            else:\n",
      "                incoming = multipop(stack, self._nargs-len(kwargs))\n",
      "                return stack + restack(self._function(*incoming, **kwargs))\n",
      "        if self._needs_the_rest:\n",
      "            return self._function(*stack[::-1])\n",
      "        else:\n",
      "            incoming = multipop(stack, self._nargs)\n",
      "            return stack + restack(self._function(*incoming))"
     ],
     "language": "python",
     "metadata": {},
     "outputs": [],
     "prompt_number": 465
    },
    {
     "cell_type": "code",
     "collapsed": false,
     "input": [
      "swap = Gato(lambda x,y: (y,x))\n",
      "dup = Gato(lambda x: (x,x))\n",
      "[4,3,2,1] | Gato(lambda x, y: x*y) | Gato(lambda x, y: x+y) | swap | dup | where(lambda x: x>3)"
     ],
     "language": "python",
     "metadata": {},
     "outputs": [
      {
       "output_type": "pyout",
       "prompt_number": 469,
       "text": [
        "[5, 4, 4]"
       ]
      }
     ],
     "prompt_number": 469
    },
    {
     "cell_type": "code",
     "collapsed": false,
     "input": [
      "def gatocompose(a, b):\n",
      "    return Gato(lambda *x: list(reversed(x)) | a | b)"
     ],
     "language": "python",
     "metadata": {},
     "outputs": [],
     "prompt_number": 446
    },
    {
     "cell_type": "code",
     "collapsed": false,
     "input": [
      "def multipop(liszt, n):\n",
      "    ret = []\n",
      "    while n > 0:\n",
      "        ret.append(liszt.pop())\n",
      "        n -= 1\n",
      "    return ret"
     ],
     "language": "python",
     "metadata": {},
     "outputs": [],
     "prompt_number": 445
    },
    {
     "cell_type": "code",
     "collapsed": false,
     "input": [
      "bunch = Gato(lambda *x: [list(reversed(x))])\n",
      "where = lambda pred: bunch | Gato(filter, 2).partial(pred)"
     ],
     "language": "python",
     "metadata": {},
     "outputs": [],
     "prompt_number": 468
    },
    {
     "cell_type": "code",
     "collapsed": false,
     "input": [
      "grab = lambda *x: sum(x[:1])"
     ],
     "language": "python",
     "metadata": {},
     "outputs": [],
     "prompt_number": 450
    },
    {
     "cell_type": "code",
     "collapsed": false,
     "input": [
      "def gatify(source):\n",
      "    if isinstance(source, Gato):\n",
      "        return source\n",
      "    else:\n",
      "        return Gato(source)"
     ],
     "language": "python",
     "metadata": {},
     "outputs": [],
     "prompt_number": 452
    },
    {
     "cell_type": "code",
     "collapsed": false,
     "input": [
      "def catmap(startpoint, *functions):\n",
      "    return reduce(lambda left, right: right.__ror__(left), map(Gato, functions), startpoint)"
     ],
     "language": "python",
     "metadata": {},
     "outputs": [],
     "prompt_number": 454
    },
    {
     "cell_type": "code",
     "collapsed": false,
     "input": [
      "swap = Gato(lambda v, y: (y,v))\n",
      "dup = Gato(lambda x: (x,x))\n",
      "put = lambda *x: Gato(lambda: list(x))\n",
      "gfilt = lambda pred: Gato(lambda *x: list(reversed(filter(pred, x))))\n",
      "@Gato\n",
      "def tee(*x):\n",
      "    print x\n",
      "    return x"
     ],
     "language": "python",
     "metadata": {},
     "outputs": [],
     "prompt_number": 474
    },
    {
     "cell_type": "code",
     "collapsed": false,
     "input": [
      "[4,3,2,1] | Gato(lambda x, y: x*y) | swap | dup | put(5,3,4)"
     ],
     "language": "python",
     "metadata": {},
     "outputs": [
      {
       "output_type": "pyout",
       "prompt_number": 475,
       "text": [
        "[4, 2, 3, 3, 5, 3, 4]"
       ]
      }
     ],
     "prompt_number": 475
    }
   ],
   "metadata": {}
  }
 ]
}